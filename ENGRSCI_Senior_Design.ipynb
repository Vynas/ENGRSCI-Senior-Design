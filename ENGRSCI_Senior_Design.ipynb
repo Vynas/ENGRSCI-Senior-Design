{
 "cells": [
  {
   "cell_type": "markdown",
   "metadata": {},
   "source": [
    "# ENGRSCI Senior Design - Mark Jordan"
   ]
  },
  {
   "cell_type": "code",
   "execution_count": 1,
   "metadata": {
    "collapsed": true
   },
   "outputs": [],
   "source": [
    "# This code was written by Mark Jordan\n",
    "# last modified 2/15/2018"
   ]
  },
  {
   "cell_type": "code",
   "execution_count": 4,
   "metadata": {
    "collapsed": false
   },
   "outputs": [],
   "source": [
    "%matplotlib inline\n",
    "import matplotlib.pyplot as plt\n",
    "import numpy as np"
   ]
  },
  {
   "cell_type": "raw",
   "metadata": {},
   "source": [
    "http://emweb.unl.edu/Mechanics-Pages/Scott-Whitney/325hweb/Beams.htm\n",
    "http://iitg.vlab.co.in/?sub=62&brch=175&sim=1080&cnt=1\n",
    "http://iopscience.iop.org/article/10.1088/1742-6596/448/1/012010/pdf\n",
    "https://www.engineersedge.com/beam_bending/beam_bending9.htm\n"
   ]
  },
  {
   "cell_type": "code",
   "execution_count": 2,
   "metadata": {
    "collapsed": false
   },
   "outputs": [
    {
     "ename": "SyntaxError",
     "evalue": "invalid syntax (<ipython-input-2-dc71b3aaa83b>, line 1)",
     "output_type": "error",
     "traceback": [
      "\u001b[1;36m  File \u001b[1;32m\"<ipython-input-2-dc71b3aaa83b>\"\u001b[1;36m, line \u001b[1;32m1\u001b[0m\n\u001b[1;33m    L = #length of beam\u001b[0m\n\u001b[1;37m                       ^\u001b[0m\n\u001b[1;31mSyntaxError\u001b[0m\u001b[1;31m:\u001b[0m invalid syntax\n"
     ]
    }
   ],
   "source": [
    "L = #length of beam\n",
    "b = #cross section base\n",
    "h = #cross section height\n",
    "A = b*h #cross sectional area\n",
    "E = #young's modulus\n",
    "rho = #density\n",
    "m = #mass at tip\n",
    "I = (b*h**3)/12 #moment of inertia\n",
    "k = 3*E*I/L**3 #stiffness\n",
    "P = #force\n",
    "c = #damping constant\n",
    "alpha_1 = 1.875 # result of boundary conditions\n",
    "omega_base = #frequency of base vibration\n",
    "omega_n1 = alpha_1**2*np.sqrt(k/m) #natural frequency of beam\n",
    "delta_x = -(P*L**3)/(3*E*I) #displacement of mass tip\n",
    "delta_y = #displacement of base"
   ]
  },
  {
   "cell_type": "code",
   "execution_count": null,
   "metadata": {
    "collapsed": true
   },
   "outputs": [],
   "source": [
    "z = # distance from neutral axis to extreme fiber\n",
    "Z = I/z\n",
    "sigma = P*L/Z #stress at base"
   ]
  }
 ],
 "metadata": {
  "anaconda-cloud": {},
  "kernelspec": {
   "display_name": "Python [Root]",
   "language": "python",
   "name": "Python [Root]"
  },
  "language_info": {
   "codemirror_mode": {
    "name": "ipython",
    "version": 3
   },
   "file_extension": ".py",
   "mimetype": "text/x-python",
   "name": "python",
   "nbconvert_exporter": "python",
   "pygments_lexer": "ipython3",
   "version": "3.5.2"
  }
 },
 "nbformat": 4,
 "nbformat_minor": 0
}
